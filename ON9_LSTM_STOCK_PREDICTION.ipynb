{
  "nbformat": 4,
  "nbformat_minor": 0,
  "metadata": {
    "colab": {
      "name": "ON9 LSTM STOCK PREDICTION.ipynb",
      "provenance": [],
      "collapsed_sections": []
    },
    "kernelspec": {
      "name": "python3",
      "display_name": "Python 3"
    },
    "language_info": {
      "name": "python"
    }
  },
  "cells": [
    {
      "cell_type": "code",
      "metadata": {
        "id": "czfMckS7v92w"
      },
      "source": [
        "import numpy as np\n",
        "import pandas as pd\n",
        "import pandas_datareader as web\n",
        "import matplotlib.pyplot as plt\n",
        "import datetime as dt \n",
        "\n",
        "from sklearn.preprocessing import MinMaxScaler\n",
        "from tensorflow.keras.models import Sequential \n",
        "from tensorflow.keras.layers import Dense, Dropout, LSTM"
      ],
      "execution_count": 86,
      "outputs": []
    },
    {
      "cell_type": "code",
      "metadata": {
        "id": "I5qZHJ9rwCAL"
      },
      "source": [
        "#Load Data\n",
        "company = \"FUTU\"\n",
        "\n",
        "start = dt.datetime(2016,1,1)\n",
        "end = dt.datetime(2020,1,1)\n",
        "\n",
        "data =web.DataReader(company, \"yahoo\", start, end)"
      ],
      "execution_count": 100,
      "outputs": []
    },
    {
      "cell_type": "code",
      "metadata": {
        "id": "ISiQlKOqwOCw"
      },
      "source": [
        "#Prepare Data\n",
        "scaler = MinMaxScaler(feature_range = (0,1))\n",
        "scaled_data = scaler.fit_transform(data[\"Close\"].values.reshape(-1,1))\n",
        "\n",
        "prediction_days = 60\n",
        "\n",
        "x_train = []\n",
        "y_train = []\n",
        "\n",
        "for x in range(prediction_days, len(scaled_data)):\n",
        "    x_train.append(scaled_data[x-prediction_days:x, 0])\n",
        "    y_train.append(scaled_data[x, 0])\n",
        "\n",
        "x_train, y_train = np.array(x_train), np.array(y_train)\n",
        "x_train  = np.reshape(x_train, (x_train.shape[0], x_train.shape[1], 1))"
      ],
      "execution_count": 101,
      "outputs": []
    },
    {
      "cell_type": "code",
      "metadata": {
        "id": "KPuITQrdG_2-"
      },
      "source": [
        ""
      ],
      "execution_count": null,
      "outputs": []
    },
    {
      "cell_type": "code",
      "metadata": {
        "colab": {
          "base_uri": "https://localhost:8080/"
        },
        "id": "vK2QgzL0wgtr",
        "outputId": "5c102ce4-4034-4d35-c106-6a9027ae52fa"
      },
      "source": [
        "#Build model\n",
        "model = Sequential()\n",
        "\n",
        "model.add(LSTM(units = 50, return_sequences = True, input_shape = (x_train.shape[1], 1)))\n",
        "model.add(Dropout(0.2))\n",
        "model.add(LSTM(units = 50, return_sequences = True))\n",
        "model.add(Dropout(0.2))\n",
        "model.add(LSTM(units = 50))\n",
        "model.add(Dropout(0.1))\n",
        "model.add(Dense(units = 1))\n",
        "\n",
        "model.compile(optimizer = \"adam\", loss = \"mean_squared_error\")\n",
        "model.fit(x_train, y_train, epochs = 30, batch_size =30)\n",
        "\n"
      ],
      "execution_count": 102,
      "outputs": [
        {
          "output_type": "stream",
          "text": [
            "Epoch 1/30\n",
            "5/5 [==============================] - 6s 86ms/step - loss: 0.0134\n",
            "Epoch 2/30\n",
            "5/5 [==============================] - 0s 84ms/step - loss: 0.0065\n",
            "Epoch 3/30\n",
            "5/5 [==============================] - 0s 84ms/step - loss: 0.0054\n",
            "Epoch 4/30\n",
            "5/5 [==============================] - 0s 90ms/step - loss: 0.0041\n",
            "Epoch 5/30\n",
            "5/5 [==============================] - 0s 84ms/step - loss: 0.0041\n",
            "Epoch 6/30\n",
            "5/5 [==============================] - 0s 86ms/step - loss: 0.0038\n",
            "Epoch 7/30\n",
            "5/5 [==============================] - 0s 84ms/step - loss: 0.0037\n",
            "Epoch 8/30\n",
            "5/5 [==============================] - 0s 85ms/step - loss: 0.0032\n",
            "Epoch 9/30\n",
            "5/5 [==============================] - 0s 88ms/step - loss: 0.0031\n",
            "Epoch 10/30\n",
            "5/5 [==============================] - 0s 84ms/step - loss: 0.0030\n",
            "Epoch 11/30\n",
            "5/5 [==============================] - 0s 88ms/step - loss: 0.0021\n",
            "Epoch 12/30\n",
            "5/5 [==============================] - 0s 83ms/step - loss: 0.0024\n",
            "Epoch 13/30\n",
            "5/5 [==============================] - 0s 87ms/step - loss: 0.0025\n",
            "Epoch 14/30\n",
            "5/5 [==============================] - 0s 88ms/step - loss: 0.0021\n",
            "Epoch 15/30\n",
            "5/5 [==============================] - 0s 81ms/step - loss: 0.0023\n",
            "Epoch 16/30\n",
            "5/5 [==============================] - 0s 86ms/step - loss: 0.0022\n",
            "Epoch 17/30\n",
            "5/5 [==============================] - 0s 89ms/step - loss: 0.0024\n",
            "Epoch 18/30\n",
            "5/5 [==============================] - 0s 85ms/step - loss: 0.0025\n",
            "Epoch 19/30\n",
            "5/5 [==============================] - 0s 86ms/step - loss: 0.0022\n",
            "Epoch 20/30\n",
            "5/5 [==============================] - 0s 93ms/step - loss: 0.0020\n",
            "Epoch 21/30\n",
            "5/5 [==============================] - 0s 87ms/step - loss: 0.0024\n",
            "Epoch 22/30\n",
            "5/5 [==============================] - 0s 90ms/step - loss: 0.0022\n",
            "Epoch 23/30\n",
            "5/5 [==============================] - 0s 87ms/step - loss: 0.0020\n",
            "Epoch 24/30\n",
            "5/5 [==============================] - 0s 87ms/step - loss: 0.0022\n",
            "Epoch 25/30\n",
            "5/5 [==============================] - 0s 89ms/step - loss: 0.0022\n",
            "Epoch 26/30\n",
            "5/5 [==============================] - 0s 84ms/step - loss: 0.0024\n",
            "Epoch 27/30\n",
            "5/5 [==============================] - 0s 88ms/step - loss: 0.0021\n",
            "Epoch 28/30\n",
            "5/5 [==============================] - 0s 89ms/step - loss: 0.0020\n",
            "Epoch 29/30\n",
            "5/5 [==============================] - 0s 89ms/step - loss: 0.0021\n",
            "Epoch 30/30\n",
            "5/5 [==============================] - 0s 88ms/step - loss: 0.0020\n"
          ],
          "name": "stdout"
        },
        {
          "output_type": "execute_result",
          "data": {
            "text/plain": [
              "<tensorflow.python.keras.callbacks.History at 0x7f8bf124bb50>"
            ]
          },
          "metadata": {
            "tags": []
          },
          "execution_count": 102
        }
      ]
    },
    {
      "cell_type": "code",
      "metadata": {
        "id": "CgqqkPhVJgG9"
      },
      "source": [
        "#Load Test Data\n",
        "test_start = dt.datetime(2020,1,1)\n",
        "test_end = dt.datetime.now()\n",
        "\n",
        "test_data = web.DataReader(company, \"yahoo\", test_start, test_end)\n",
        "actual_prices = test_data[\"Close\"].values\n",
        "\n",
        "total_dataset = pd.concat((data[\"Close\"], test_data[\"Close\"]), axis = 0)\n",
        "\n",
        "model_inputs = total_dataset[len(total_dataset) - len(test_data) - prediction_days:].values\n",
        "model_inputs = model_inputs.reshape(-1, 1)\n",
        "model_inputs = scaler.transform(model_inputs)\n",
        "\n"
      ],
      "execution_count": 103,
      "outputs": []
    },
    {
      "cell_type": "code",
      "metadata": {
        "id": "ylEkxowjMK7p"
      },
      "source": [
        "#make prediction on Test Data\n",
        "\n",
        "x_test = []\n",
        "\n",
        "for x in range(prediction_days, len(model_inputs)):\n",
        "  x_test.append(model_inputs [x - prediction_days : x, 0])\n",
        "  \n",
        "\n",
        "x_test = np.array(x_test)\n",
        "x_test = np.reshape(x_test, (x_test.shape[0], x_test.shape[1], 1))\n",
        "\n",
        "predicted_prices = model.predict(x_test)\n",
        "predicted_prices = scaler.inverse_transform(predicted_prices)\n"
      ],
      "execution_count": 104,
      "outputs": []
    },
    {
      "cell_type": "code",
      "metadata": {
        "colab": {
          "base_uri": "https://localhost:8080/",
          "height": 295
        },
        "id": "BW3ncLdFNERU",
        "outputId": "6b9c0f0d-df80-4a0e-f893-7165b88902cf"
      },
      "source": [
        "#plot the test prediction\n",
        "plt.plot(actual_prices, color = \"black\", label = \"Actual Price\")\n",
        "plt.plot(predicted_prices, color = \"green\", label = \"Predicted Price\")\n",
        "plt.xlabel(\"Time\")\n",
        "plt.ylabel(\"Stock Price\")\n",
        "plt.title(company)\n",
        "plt.legend()\n",
        "plt.show()"
      ],
      "execution_count": 110,
      "outputs": [
        {
          "output_type": "display_data",
          "data": {
            "image/png": "[encoded data removed]",
            "text/plain": [
              "<Figure size 432x288 with 1 Axes>"
            ]
          },
          "metadata": {
            "tags": [],
            "needs_background": "light"
          }
        }
      ]
    },
    {
      "cell_type": "code",
      "metadata": {
        "colab": {
          "base_uri": "https://localhost:8080/"
        },
        "id": "Jf1ve_i_Qegy",
        "outputId": "e23261bb-c092-425b-bb62-ebafa53ad35b"
      },
      "source": [
        "#Predict next date\n",
        "real_data = [model_inputs[len(model_inputs) + 1 - prediction_days: len(model_inputs + 1), 0]]\n",
        "real_data = np.array(real_data)\n",
        "real_data = np.reshape(real_data, (real_data.shape[0], real_data.shape[1], 1))\n",
        "\n",
        "prediction = model.predict(real_data)\n",
        "prediction = scaler.inverse_transform(prediction)\n",
        "print(f\"Prediction: {prediction}\")"
      ],
      "execution_count": 112,
      "outputs": [
        {
          "output_type": "stream",
          "text": [
            "Prediction: [[29.065275]]\n"
          ],
          "name": "stdout"
        }
      ]
    }
  ]
}